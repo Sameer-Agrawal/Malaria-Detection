{
 "cells": [
  {
   "cell_type": "code",
   "execution_count": 1,
   "metadata": {},
   "outputs": [],
   "source": [
    "# Importing The Essential Libraries\n",
    "import numpy as np\n",
    "from keras.applications.vgg19 import preprocess_input\n",
    "from keras.models import load_model\n",
    "from keras.preprocessing.image import load_img , img_to_array"
   ]
  },
  {
   "cell_type": "code",
   "execution_count": 2,
   "metadata": {},
   "outputs": [],
   "source": [
    "# Loading The Model\n",
    "train_model = load_model('model_vgg19.h5')"
   ]
  },
  {
   "cell_type": "code",
   "execution_count": 3,
   "metadata": {},
   "outputs": [],
   "source": [
    "# Defining The Function For classification\n",
    "def model_predict(image_path,model):\n",
    "    img = load_img(image_path,target_size=(224,224))\n",
    "    x = img_to_array(img)\n",
    "    x = x/255\n",
    "    x = np.expand_dims(x,axis=0)\n",
    "    x = preprocess_input(x)\n",
    "    prediction = model.predict(x)\n",
    "    prediction = np.argmax(prediction , axis=1)\n",
    "    if prediction == 1:\n",
    "        preds = 'The Person Is Uninfected With Malaria'\n",
    "    else:\n",
    "        preds = 'The Person Is Infected With Malaria'\n",
    "    \n",
    "    return preds\n",
    "    \n",
    "    \n",
    "    "
   ]
  },
  {
   "cell_type": "code",
   "execution_count": 4,
   "metadata": {},
   "outputs": [
    {
     "data": {
      "text/plain": [
       "'The Person Is Infected With Malaria'"
      ]
     },
     "execution_count": 4,
     "metadata": {},
     "output_type": "execute_result"
    }
   ],
   "source": [
    "model_predict(\"Dataset/Train/Parasite/C33P1thinF_IMG_20150619_114756a_cell_179.png\",train_model)"
   ]
  }
 ],
 "metadata": {
  "kernelspec": {
   "display_name": "Python 3",
   "language": "python",
   "name": "python3"
  },
  "language_info": {
   "codemirror_mode": {
    "name": "ipython",
    "version": 3
   },
   "file_extension": ".py",
   "mimetype": "text/x-python",
   "name": "python",
   "nbconvert_exporter": "python",
   "pygments_lexer": "ipython3",
   "version": "3.8.5"
  }
 },
 "nbformat": 4,
 "nbformat_minor": 4
}
